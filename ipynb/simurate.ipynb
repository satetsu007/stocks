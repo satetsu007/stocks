{
 "cells": [
  {
   "cell_type": "code",
   "execution_count": 2,
   "metadata": {
    "collapsed": false
   },
   "outputs": [],
   "source": [
    "import numpy as np\n",
    "import pandas as pd\n",
    "import random\n",
    "import matplotlib.pyplot as plt\n",
    "import os\n",
    "import sys\n",
    "from IPython.display import display\n",
    "import seaborn as sns\n",
    "import scipy\n",
    "\n",
    "plt.style.use(\"ggplot\")\n",
    "%matplotlib inline"
   ]
  },
  {
   "cell_type": "code",
   "execution_count": 3,
   "metadata": {
    "collapsed": false
   },
   "outputs": [],
   "source": [
    "os.chdir('/Users/yamadakanato/program/python/stocks/')"
   ]
  },
  {
   "cell_type": "code",
   "execution_count": 4,
   "metadata": {
    "collapsed": true
   },
   "outputs": [],
   "source": [
    "df = pd.read_csv(\"data/usdjpy_d.csv\")"
   ]
  },
  {
   "cell_type": "markdown",
   "metadata": {},
   "source": [
    "### シミュレーション\n",
    "\n",
    "#### 条件\n",
    "\n",
    "- 初期資産 : ¥1,000,000\n",
    "- 投資期間 : 2010 ~ 2017/XX\n",
    "- 手数料 : ¥0\n",
    "- ロット(為替) : 100通貨\n",
    "- ロット(株式) : 対象の最小ロットに準ずる.\n",
    "- 一週間(5営業日)所持し,売却を行う.\n",
    "- 空売りは無し.\n",
    "- 最終取引日に所持しているポジションは時価で算出を行う."
   ]
  },
  {
   "cell_type": "code",
   "execution_count": 9,
   "metadata": {
    "collapsed": false
   },
   "outputs": [
    {
     "data": {
      "text/html": [
       "<div>\n",
       "<style>\n",
       "    .dataframe thead tr:only-child th {\n",
       "        text-align: right;\n",
       "    }\n",
       "\n",
       "    .dataframe thead th {\n",
       "        text-align: left;\n",
       "    }\n",
       "\n",
       "    .dataframe tbody tr th {\n",
       "        vertical-align: top;\n",
       "    }\n",
       "</style>\n",
       "<table border=\"1\" class=\"dataframe\">\n",
       "  <thead>\n",
       "    <tr style=\"text-align: right;\">\n",
       "      <th></th>\n",
       "      <th>Date</th>\n",
       "      <th>Open</th>\n",
       "      <th>High</th>\n",
       "      <th>Low</th>\n",
       "      <th>Close</th>\n",
       "    </tr>\n",
       "  </thead>\n",
       "  <tbody>\n",
       "    <tr>\n",
       "      <th>0</th>\n",
       "      <td>2001-01-01</td>\n",
       "      <td>114.35</td>\n",
       "      <td>114.61</td>\n",
       "      <td>114.30</td>\n",
       "      <td>114.57</td>\n",
       "    </tr>\n",
       "    <tr>\n",
       "      <th>1</th>\n",
       "      <td>2001-01-02</td>\n",
       "      <td>114.33</td>\n",
       "      <td>115.06</td>\n",
       "      <td>114.21</td>\n",
       "      <td>114.45</td>\n",
       "    </tr>\n",
       "    <tr>\n",
       "      <th>2</th>\n",
       "      <td>2001-01-03</td>\n",
       "      <td>114.36</td>\n",
       "      <td>114.66</td>\n",
       "      <td>113.55</td>\n",
       "      <td>113.60</td>\n",
       "    </tr>\n",
       "    <tr>\n",
       "      <th>3</th>\n",
       "      <td>2001-01-04</td>\n",
       "      <td>113.57</td>\n",
       "      <td>115.75</td>\n",
       "      <td>113.52</td>\n",
       "      <td>115.68</td>\n",
       "    </tr>\n",
       "    <tr>\n",
       "      <th>4</th>\n",
       "      <td>2001-01-05</td>\n",
       "      <td>115.62</td>\n",
       "      <td>116.88</td>\n",
       "      <td>115.47</td>\n",
       "      <td>116.54</td>\n",
       "    </tr>\n",
       "  </tbody>\n",
       "</table>\n",
       "</div>"
      ],
      "text/plain": [
       "         Date    Open    High     Low   Close\n",
       "0  2001-01-01  114.35  114.61  114.30  114.57\n",
       "1  2001-01-02  114.33  115.06  114.21  114.45\n",
       "2  2001-01-03  114.36  114.66  113.55  113.60\n",
       "3  2001-01-04  113.57  115.75  113.52  115.68\n",
       "4  2001-01-05  115.62  116.88  115.47  116.54"
      ]
     },
     "metadata": {},
     "output_type": "display_data"
    },
    {
     "data": {
      "text/html": [
       "<div>\n",
       "<style>\n",
       "    .dataframe thead tr:only-child th {\n",
       "        text-align: right;\n",
       "    }\n",
       "\n",
       "    .dataframe thead th {\n",
       "        text-align: left;\n",
       "    }\n",
       "\n",
       "    .dataframe tbody tr th {\n",
       "        vertical-align: top;\n",
       "    }\n",
       "</style>\n",
       "<table border=\"1\" class=\"dataframe\">\n",
       "  <thead>\n",
       "    <tr style=\"text-align: right;\">\n",
       "      <th></th>\n",
       "      <th>Date</th>\n",
       "      <th>Open</th>\n",
       "      <th>High</th>\n",
       "      <th>Low</th>\n",
       "      <th>Close</th>\n",
       "    </tr>\n",
       "  </thead>\n",
       "  <tbody>\n",
       "    <tr>\n",
       "      <th>4346</th>\n",
       "      <td>2017-09-28</td>\n",
       "      <td>112.810</td>\n",
       "      <td>113.200</td>\n",
       "      <td>112.256</td>\n",
       "      <td>112.314</td>\n",
       "    </tr>\n",
       "    <tr>\n",
       "      <th>4347</th>\n",
       "      <td>2017-09-29</td>\n",
       "      <td>112.315</td>\n",
       "      <td>112.727</td>\n",
       "      <td>112.220</td>\n",
       "      <td>112.508</td>\n",
       "    </tr>\n",
       "    <tr>\n",
       "      <th>4348</th>\n",
       "      <td>2017-10-02</td>\n",
       "      <td>112.517</td>\n",
       "      <td>113.056</td>\n",
       "      <td>112.510</td>\n",
       "      <td>112.723</td>\n",
       "    </tr>\n",
       "    <tr>\n",
       "      <th>4349</th>\n",
       "      <td>2017-10-03</td>\n",
       "      <td>112.723</td>\n",
       "      <td>113.196</td>\n",
       "      <td>112.665</td>\n",
       "      <td>112.891</td>\n",
       "    </tr>\n",
       "    <tr>\n",
       "      <th>4350</th>\n",
       "      <td>2017-10-04</td>\n",
       "      <td>112.888</td>\n",
       "      <td>112.938</td>\n",
       "      <td>112.326</td>\n",
       "      <td>112.789</td>\n",
       "    </tr>\n",
       "  </tbody>\n",
       "</table>\n",
       "</div>"
      ],
      "text/plain": [
       "            Date     Open     High      Low    Close\n",
       "4346  2017-09-28  112.810  113.200  112.256  112.314\n",
       "4347  2017-09-29  112.315  112.727  112.220  112.508\n",
       "4348  2017-10-02  112.517  113.056  112.510  112.723\n",
       "4349  2017-10-03  112.723  113.196  112.665  112.891\n",
       "4350  2017-10-04  112.888  112.938  112.326  112.789"
      ]
     },
     "metadata": {},
     "output_type": "display_data"
    },
    {
     "data": {
      "text/html": [
       "<div>\n",
       "<style>\n",
       "    .dataframe thead tr:only-child th {\n",
       "        text-align: right;\n",
       "    }\n",
       "\n",
       "    .dataframe thead th {\n",
       "        text-align: left;\n",
       "    }\n",
       "\n",
       "    .dataframe tbody tr th {\n",
       "        vertical-align: top;\n",
       "    }\n",
       "</style>\n",
       "<table border=\"1\" class=\"dataframe\">\n",
       "  <thead>\n",
       "    <tr style=\"text-align: right;\">\n",
       "      <th></th>\n",
       "      <th>Open</th>\n",
       "      <th>High</th>\n",
       "      <th>Low</th>\n",
       "      <th>Close</th>\n",
       "    </tr>\n",
       "  </thead>\n",
       "  <tbody>\n",
       "    <tr>\n",
       "      <th>count</th>\n",
       "      <td>4351.000000</td>\n",
       "      <td>4351.000000</td>\n",
       "      <td>4351.000000</td>\n",
       "      <td>4351.000000</td>\n",
       "    </tr>\n",
       "    <tr>\n",
       "      <th>mean</th>\n",
       "      <td>106.052372</td>\n",
       "      <td>106.517146</td>\n",
       "      <td>105.540359</td>\n",
       "      <td>106.047786</td>\n",
       "    </tr>\n",
       "    <tr>\n",
       "      <th>std</th>\n",
       "      <td>14.340136</td>\n",
       "      <td>14.373242</td>\n",
       "      <td>14.303096</td>\n",
       "      <td>14.338144</td>\n",
       "    </tr>\n",
       "    <tr>\n",
       "      <th>min</th>\n",
       "      <td>75.750000</td>\n",
       "      <td>76.000000</td>\n",
       "      <td>75.570000</td>\n",
       "      <td>75.820000</td>\n",
       "    </tr>\n",
       "    <tr>\n",
       "      <th>25%</th>\n",
       "      <td>96.602500</td>\n",
       "      <td>97.395000</td>\n",
       "      <td>95.791500</td>\n",
       "      <td>96.642500</td>\n",
       "    </tr>\n",
       "    <tr>\n",
       "      <th>50%</th>\n",
       "      <td>108.860000</td>\n",
       "      <td>109.405000</td>\n",
       "      <td>108.380000</td>\n",
       "      <td>108.860000</td>\n",
       "    </tr>\n",
       "    <tr>\n",
       "      <th>75%</th>\n",
       "      <td>117.873000</td>\n",
       "      <td>118.373500</td>\n",
       "      <td>117.415000</td>\n",
       "      <td>117.870000</td>\n",
       "    </tr>\n",
       "    <tr>\n",
       "      <th>max</th>\n",
       "      <td>134.990000</td>\n",
       "      <td>134.990000</td>\n",
       "      <td>134.280000</td>\n",
       "      <td>134.870000</td>\n",
       "    </tr>\n",
       "  </tbody>\n",
       "</table>\n",
       "</div>"
      ],
      "text/plain": [
       "              Open         High          Low        Close\n",
       "count  4351.000000  4351.000000  4351.000000  4351.000000\n",
       "mean    106.052372   106.517146   105.540359   106.047786\n",
       "std      14.340136    14.373242    14.303096    14.338144\n",
       "min      75.750000    76.000000    75.570000    75.820000\n",
       "25%      96.602500    97.395000    95.791500    96.642500\n",
       "50%     108.860000   109.405000   108.380000   108.860000\n",
       "75%     117.873000   118.373500   117.415000   117.870000\n",
       "max     134.990000   134.990000   134.280000   134.870000"
      ]
     },
     "metadata": {},
     "output_type": "display_data"
    }
   ],
   "source": [
    "display(df.head())\n",
    "display(df.tail())\n",
    "display(df.describe())"
   ]
  },
  {
   "cell_type": "code",
   "execution_count": 10,
   "metadata": {
    "collapsed": false
   },
   "outputs": [],
   "source": [
    "# 2010初頭〜\n",
    "# df.iloc[2338:]"
   ]
  },
  {
   "cell_type": "code",
   "execution_count": 108,
   "metadata": {
    "collapsed": false
   },
   "outputs": [],
   "source": [
    "moneys = []\n",
    "for x in range(100):\n",
    "    money = 1000000\n",
    "    cost = 0\n",
    "    lot = 100\n",
    "    position = []\n",
    "\n",
    "    for i, price in enumerate(df.Close[2338:]):        \n",
    "        # 買う\n",
    "        if random.random() < 0.1:\n",
    "            lots = round(random.random()*(money/lot*0.5))\n",
    "            # lots = round(0.01*(money/lot*0.5))\n",
    "        # 買わない\n",
    "        else:\n",
    "            lots = 0\n",
    "\n",
    "        money -= lots * price\n",
    "        position.append(lots)\n",
    "        # 開始１週間以降\n",
    "        if i > 4:\n",
    "            money += position[i-5] * price\n",
    "        j = i\n",
    "    \n",
    "    # 最終取引日に所持しているポジションを売却\n",
    "    for lots in position[j:]:\n",
    "        money += df.Close.iloc[-1] * lots\n",
    "    \n",
    "    moneys.append(money)"
   ]
  },
  {
   "cell_type": "code",
   "execution_count": 120,
   "metadata": {
    "collapsed": false
   },
   "outputs": [
    {
     "name": "stdout",
     "output_type": "stream",
     "text": [
      "平均値: 912991.7748399999\n",
      "中央値: 987929.3934999998\n",
      "分散: 32447660652.87961\n",
      "標準偏差: 180132.34205128075\n",
      "最大値: 1141112.9519999996\n",
      "最小値: 348380.0660000001\n"
     ]
    }
   ],
   "source": [
    "moneys = pd.Series(moneys)\n",
    "print(\"平均値: %s\" % moneys.mean())\n",
    "print(\"中央値: %s\" % moneys.median())\n",
    "print(\"分散: %s\" % moneys.var())\n",
    "print(\"標準偏差: %s\" % moneys.std())\n",
    "print(\"最大値: %s\" % moneys.max())\n",
    "print(\"最小値: %s\" % moneys.min())"
   ]
  },
  {
   "cell_type": "code",
   "execution_count": 110,
   "metadata": {
    "collapsed": false
   },
   "outputs": [
    {
     "data": {
      "text/plain": [
       "(array([ 3.,  2.,  4.,  3.,  3., 10.,  4., 19., 42., 10.]),\n",
       " array([ 348380.066 ,  427653.3546,  506926.6432,  586199.9318,\n",
       "         665473.2204,  744746.509 ,  824019.7976,  903293.0862,\n",
       "         982566.3748, 1061839.6634, 1141112.952 ]),\n",
       " <a list of 10 Patch objects>)"
      ]
     },
     "execution_count": 110,
     "metadata": {},
     "output_type": "execute_result"
    },
    {
     "data": {
      "image/png": "[encoded data removed]",
      "text/plain": [
       "<matplotlib.figure.Figure at 0x1200fc390>"
      ]
     },
     "metadata": {},
     "output_type": "display_data"
    }
   ],
   "source": [
    "plt.hist(moneys)"
   ]
  },
  {
   "cell_type": "code",
   "execution_count": 117,
   "metadata": {
    "collapsed": false
   },
   "outputs": [],
   "source": [
    "moneys = pd.Series(moneys)"
   ]
  },
  {
   "cell_type": "code",
   "execution_count": 118,
   "metadata": {
    "collapsed": false
   },
   "outputs": [
    {
     "data": {
      "text/plain": [
       "count    1.000000e+02\n",
       "mean     9.129918e+05\n",
       "std      1.801323e+05\n",
       "min      3.483801e+05\n",
       "25%      8.330078e+05\n",
       "50%      9.879294e+05\n",
       "75%      1.024510e+06\n",
       "max      1.141113e+06\n",
       "dtype: float64"
      ]
     },
     "execution_count": 118,
     "metadata": {},
     "output_type": "execute_result"
    }
   ],
   "source": [
    "moneys.describe()"
   ]
  },
  {
   "cell_type": "code",
   "execution_count": null,
   "metadata": {
    "collapsed": true
   },
   "outputs": [],
   "source": []
  }
 ],
 "metadata": {
  "anaconda-cloud": {},
  "kernelspec": {
   "display_name": "Python [default]",
   "language": "python",
   "name": "python3"
  },
  "language_info": {
   "codemirror_mode": {
    "name": "ipython",
    "version": 3
   },
   "file_extension": ".py",
   "mimetype": "text/x-python",
   "name": "python",
   "nbconvert_exporter": "python",
   "pygments_lexer": "ipython3",
   "version": "3.5.2"
  }
 },
 "nbformat": 4,
 "nbformat_minor": 1
}
